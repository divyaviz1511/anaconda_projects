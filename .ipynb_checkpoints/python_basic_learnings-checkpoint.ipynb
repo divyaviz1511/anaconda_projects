{
 "cells": [
  {
   "cell_type": "code",
   "execution_count": 1,
   "id": "5a03f683-bbc6-42bf-bcac-01323e1970a0",
   "metadata": {},
   "outputs": [
    {
     "name": "stdout",
     "output_type": "stream",
     "text": [
      "Calculated 70 * 45 : 3150\n"
     ]
    }
   ],
   "source": [
    "#formatted print statements\n",
    "print(f\"Calculated 70 * 45 : {70*45}\")"
   ]
  },
  {
   "cell_type": "code",
   "execution_count": 4,
   "id": "1909479a-67a4-4693-a7b3-343116567b09",
   "metadata": {},
   "outputs": [
    {
     "name": "stdout",
     "output_type": "stream",
     "text": [
      "['Anu', 'Aarati', 'Aana']\n",
      "['Anu', 'Aarati', 'Aana', 'Gabriel', 'Kate']\n"
     ]
    },
    {
     "data": {
      "text/plain": [
       "list"
      ]
     },
     "execution_count": 4,
     "metadata": {},
     "output_type": "execute_result"
    }
   ],
   "source": [
    "#lists \n",
    "friend_list = [\"Anu\", \"Aarati\", \"Aana\"]\n",
    "print(friend_list)\n",
    "friend_list.append(\"Gabriel\")\n",
    "friend_list.append(\"Kate\")\n",
    "print(friend_list)\n",
    "type(friend_list)"
   ]
  },
  {
   "cell_type": "code",
   "execution_count": 11,
   "id": "0df6e2d0-f513-4801-8b57-05217e8f6202",
   "metadata": {},
   "outputs": [
    {
     "name": "stdout",
     "output_type": "stream",
     "text": [
      "[{'description': 'Compose a brief email to my boss explaining that I will be late for next meeting.', 'time_to_complete': 3}, {'description': 'Create an outline for a presentation on the benefits of remote work.', 'time_to_complete': 60}, {'description': \"Write a 300-word review of the movie 'The Arrival'.\", 'time_to_complete': 30}, {'description': 'Create a shopping list for tofu and olive stir fry.', 'time_to_complete': 5}]\n",
      "Completed tasks: ['Compose a brief email to my boss explaining that I will be late for next meeting.', 'Create a shopping list for tofu and olive stir fry.']\n",
      "Left over tasks: ['Create an outline for a presentation on the benefits of remote work.', \"Write a 300-word review of the movie 'The Arrival'.\"]\n"
     ]
    }
   ],
   "source": [
    "#multiple data types in lists\n",
    "task_list = [\n",
    "    {\n",
    "        \"description\": \"Compose a brief email to my boss explaining that I will be late for next meeting.\",\n",
    "        \"time_to_complete\": 3\n",
    "    },\n",
    "    {\n",
    "        \"description\": \"Create an outline for a presentation on the benefits of remote work.\",\n",
    "        \"time_to_complete\": 60\n",
    "    },\n",
    "    {\n",
    "        \"description\": \"Write a 300-word review of the movie 'The Arrival'.\",\n",
    "        \"time_to_complete\": 30\n",
    "    },\n",
    "    {\n",
    "        \"description\": \"Create a shopping list for tofu and olive stir fry.\",\n",
    "        \"time_to_complete\": 5\n",
    "    }\n",
    "]\n",
    "\n",
    "print(task_list)\n",
    "\n",
    "leftover_tasks = []\n",
    "completed_tasks = []\n",
    "for task in task_list:\n",
    "    if task[\"time_to_complete\"] <=5:\n",
    "        completed_tasks.append(task[\"description\"])\n",
    "    else:\n",
    "        leftover_tasks.append(task[\"description\"])\n",
    "\n",
    "print(f\"Completed tasks: {completed_tasks}\")\n",
    "print(f\"Left over tasks: {leftover_tasks}\")\n"
   ]
  },
  {
   "cell_type": "code",
   "execution_count": 14,
   "id": "5b86c695-3616-486a-9971-50044bb31c12",
   "metadata": {},
   "outputs": [
    {
     "name": "stdout",
     "output_type": "stream",
     "text": [
      "Icecream flavors & description : {'mango': 'Made from fresh Alphonso Mangoes and cream', 'vanilla': 'Made from best vanilla extract and heavy cream', 'chocolate': 'Yummy chocolate made from Dubai cocoa with cream'}\n",
      "Icecreams available after new addition : dict_keys(['mango', 'vanilla', 'chocolate', 'BerryPunch'])\n",
      "My facts : {'favorite_icecreams': dict_keys(['mango', 'vanilla', 'chocolate', 'BerryPunch'])}\n"
     ]
    }
   ],
   "source": [
    "#dicts \n",
    "ice_cream_flavors = {\n",
    "    \"mango\" : \"Made from fresh Alphonso Mangoes and cream\",\n",
    "    \"vanilla\": \"Made from best vanilla extract and heavy cream\",\n",
    "    \"chocolate\": \"Yummy chocolate made from Dubai cocoa with cream\"\n",
    "}\n",
    "\n",
    "print(f\"Icecream flavors & description : {ice_cream_flavors}\")\n",
    "\n",
    "ice_cream_flavors[\"BerryPunch\"] = \"Yummy and made from fresh berries\"\n",
    "different_icecream_flavors = ice_cream_flavors.keys()\n",
    "print(f\"Icecreams available after new addition : {different_icecream_flavors}\")\n",
    "\n",
    "myfacts = {}\n",
    "myfacts[\"favorite_icecreams\"] = ice_cream_flavors.keys()\n",
    "print(f\"My facts : {myfacts}\")\n"
   ]
  },
  {
   "cell_type": "code",
   "execution_count": 15,
   "id": "35206e65-17cb-4b1c-a696-f592d7d1cb25",
   "metadata": {},
   "outputs": [
    {
     "name": "stdout",
     "output_type": "stream",
     "text": [
      "Subject: My Incredible Journey Around the World!\n",
      "\n",
      "Hi Mom Dad,\n",
      "\n",
      "I hope you both are doing greatl! I just returned from an incredible trip around the world. I started in New York, enjoying a Broadway show and the skyline. In Rio de Janeiro, I soaked up the sun on Copacabana Beach and hiked to Christ the Redeemer. Cape Town amazed me with its natural beauty and safari adventures. Paris was magical with its charming streets and delicious food. Istanbul's Hagia Sophia and Bosphorus cruise were unforgettable. Tokyo dazzled with its neon lights and delicious sushi. Finally, Sydney's Opera House and Bondi Beach were the perfect end to my journey. Can't wait to share more stories and photos when we catch up!\n",
      "\n",
      "Best,\n",
      "Divya\n"
     ]
    }
   ],
   "source": [
    "#Files \n",
    "f = open(\"data/email.txt\", \"r\")\n",
    "email_content = f.read()\n",
    "f.close()\n",
    "print(email_content)"
   ]
  },
  {
   "cell_type": "code",
   "execution_count": 18,
   "id": "464b501e-eb2f-4ddc-b35c-6b05a497d3f9",
   "metadata": {},
   "outputs": [
    {
     "name": "stdout",
     "output_type": "stream",
     "text": [
      "{'Model': 'Bronco ', 'Price': '50000', 'Year': '2017'}\n",
      "{'Model': 'Honda Brio V MT', 'Price': '3510', 'Year': '2014'}\n",
      "{'Model': 'Accura MDX', 'Price': '75000', 'Year': '2024'}\n",
      "{'Model': 'Mazda', 'Price': '45000', 'Year': '2020'}\n",
      "{'Model': 'Hummer', 'Price': '48000', 'Year': '2021'}\n",
      "{'Model': 'Rivian', 'Price': '65000', 'Year': '2017'}\n",
      "{'Model': 'MiniCooper', 'Price': '30000', 'Year': '2015'}\n",
      "{'Model': 'Honda Civic', 'Price': '8650', 'Year': '2016'}\n",
      "{'Model': 'Tesla', 'Price': '40000', 'Year': '2019'}\n",
      "{'Model': 'BMW', 'Price': '66000', 'Year': '2014'}\n",
      "{'Model': 'Audi', 'Price': '52000', 'Year': '2018'}\n"
     ]
    }
   ],
   "source": [
    "#CSV files \n",
    "import csv\n",
    "f = open(\"data/car_data.csv\")\n",
    "csv_content = csv.DictReader(f)\n",
    "car_data = []\n",
    "for row in csv_content:\n",
    "    print(row)\n",
    "    car_data.append(row)\n",
    "f.close()\n"
   ]
  },
  {
   "cell_type": "code",
   "execution_count": 19,
   "id": "5e0b843f-958c-47a0-bef5-a1e312ae5bfd",
   "metadata": {},
   "outputs": [
    {
     "name": "stdout",
     "output_type": "stream",
     "text": [
      "Subject: My Incredible Journey Around the World!\n",
      "\n",
      "Hi Mom Dad,\n",
      "\n",
      "I hope you both are doing greatl! I just returned from an incredible trip around the world. I started in New York, enjoying a Broadway show and the skyline. In Rio de Janeiro, I soaked up the sun on Copacabana Beach and hiked to Christ the Redeemer. Cape Town amazed me with its natural beauty and safari adventures. Paris was magical with its charming streets and delicious food. Istanbul's Hagia Sophia and Bosphorus cruise were unforgettable. Tokyo dazzled with its neon lights and delicious sushi. Finally, Sydney's Opera House and Bondi Beach were the perfect end to my journey. Can't wait to share more stories and photos when we catch up!\n",
      "\n",
      "Best,\n",
      "Divya\n"
     ]
    }
   ],
   "source": [
    "#functions \n",
    "\n",
    "def readFile(file):\n",
    "    f = open(file, \"r\")\n",
    "    read_content = f.read()\n",
    "    f.close()\n",
    "\n",
    "    return read_content\n",
    "\n",
    "\n",
    "print(readFile(\"data/email.txt\"))"
   ]
  },
  {
   "cell_type": "code",
   "execution_count": null,
   "id": "c758b1e7-3824-4d7b-9179-ff760e563c96",
   "metadata": {},
   "outputs": [],
   "source": []
  }
 ],
 "metadata": {
  "kernelspec": {
   "display_name": "Python [conda env:base] *",
   "language": "python",
   "name": "conda-base-py"
  },
  "language_info": {
   "codemirror_mode": {
    "name": "ipython",
    "version": 3
   },
   "file_extension": ".py",
   "mimetype": "text/x-python",
   "name": "python",
   "nbconvert_exporter": "python",
   "pygments_lexer": "ipython3",
   "version": "3.13.5"
  }
 },
 "nbformat": 4,
 "nbformat_minor": 5
}
