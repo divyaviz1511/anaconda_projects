{
 "cells": [
  {
   "cell_type": "code",
   "execution_count": 6,
   "id": "2a7fe9bc-0bc5-4a38-a04f-925900f0c3d3",
   "metadata": {},
   "outputs": [],
   "source": [
    "import sys\n",
    "sys.path.append('/Users/divyaviswanathan/anaconda_projects/helpercode/')\n",
    "from helper_functions import *\n",
    "\n",
    "#using prompts\n",
    "f = open(\"data/journal_sidney.txt\",\"r\")\n",
    "file_content = f.read()\n",
    "f.close()\n",
    "\n",
    "prompt = f\"\"\" Read through the below file and extracts the restaurants that were visited, its location and their must-try dishes\n",
    "Provide the answer in CSV format. Include the column header\n",
    "\n",
    "format : \n",
    "Restaurant, Located at/near, Must-Try dishes\n",
    "\n",
    "File: {file_content}\n",
    "\"\"\"\n",
    "#OpenAI's API is pay-as-you-go service.\n",
    "#print_llm_response(prompt)"
   ]
  },
  {
   "cell_type": "code",
   "execution_count": null,
   "id": "0fd49783-3b83-4d2a-b380-d397ec1ea21a",
   "metadata": {},
   "outputs": [],
   "source": []
  }
 ],
 "metadata": {
  "kernelspec": {
   "display_name": "Python [conda env:base] *",
   "language": "python",
   "name": "conda-base-py"
  },
  "language_info": {
   "codemirror_mode": {
    "name": "ipython",
    "version": 3
   },
   "file_extension": ".py",
   "mimetype": "text/x-python",
   "name": "python",
   "nbconvert_exporter": "python",
   "pygments_lexer": "ipython3",
   "version": "3.13.5"
  }
 },
 "nbformat": 4,
 "nbformat_minor": 5
}
