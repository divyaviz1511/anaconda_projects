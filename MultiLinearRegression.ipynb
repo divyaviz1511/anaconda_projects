{
 "cells": [
  {
   "cell_type": "code",
   "execution_count": 2,
   "id": "4cad74d9-cf66-49f3-8db1-270e1750c953",
   "metadata": {},
   "outputs": [
    {
     "name": "stdout",
     "output_type": "stream",
     "text": [
      "Coefficient value:  [ 0.01150757  0.36225961  0.55775878  1.5863567  -2.65841444]\n",
      "Intercept value:  -721.8134557713207\n",
      "R2 Score:  0.9005743080018083\n",
      "MSE:  2.901987385197221\n"
     ]
    }
   ],
   "source": [
    "import pandas as pd\n",
    "import matplotlib.pyplot as plt\n",
    "import numpy as np\n",
    "\n",
    "from sklearn.linear_model import LinearRegression\n",
    "from sklearn.model_selection import train_test_split\n",
    "from sklearn.metrics import mean_squared_error, r2_score\n",
    "\n",
    "#Read your data from CSV file\n",
    "data = pd.read_csv(\"data/Books.csv\")\n",
    "\n",
    "#Extract the year as we want to have that to help predict price\n",
    "data['releasedYear'] = pd.to_datetime(data['releasedDate']).dt.year\n",
    "\n",
    "#Hard coded the popularity score (1-10) which also help in predicting the price\n",
    "author_score_map = {\n",
    "    \"JK Rowling\" : 10,\n",
    "    \"Dan Brown\" : 8,\n",
    "    \"Stephenie Meyer\" : 7\n",
    "}\n",
    "\n",
    "data['author_popularity_score'] = data['author'].map(author_score_map)\n",
    "data = pd.get_dummies(data, columns=['language', 'genre'], drop_first=True)\n",
    "data['author_popularity_score'] = data['author_popularity_score'].fillna(5)\n",
    "feature_cols = ['pageCount', 'releasedYear', 'author_popularity_score'] + \\\n",
    "    [col for col in data.columns if col.startswith('language_') or col.startswith('genre_')]\n",
    "\n",
    "#Choose your data\n",
    "X = data[feature_cols]\n",
    "y = data['price']\n",
    "\n",
    "#Now split this data into training sets and test sets\n",
    "[X_train, X_test, y_train, y_test] = train_test_split(X,y, test_size=0.2, random_state=42)\n",
    "\n",
    "#Now plugged in the x and y training sets into our model\n",
    "model = LinearRegression()\n",
    "model.fit(X_train, y_train)\n",
    "\n",
    "#Completely for yourself if you want to know the Coefficients/Intercept\n",
    "print(\"Coefficient value: \", model.coef_)\n",
    "print(\"Intercept value: \", model.intercept_)\n",
    "\n",
    "#Tests the prediction with X_test\n",
    "y_pred = model.predict(X_test)\n",
    "\n",
    "#Check the metrics to see if we achieved good R2 score\n",
    "print(\"R2 Score: \", r2_score(y_test, y_pred))\n",
    "print(\"MSE: \", mean_squared_error(y_test, y_pred))\n",
    "\n"
   ]
  },
  {
   "cell_type": "code",
   "execution_count": 27,
   "id": "0bb826ba-e25e-4571-8839-eae3bc1aa386",
   "metadata": {},
   "outputs": [
    {
     "name": "stdout",
     "output_type": "stream",
     "text": [
      "Suggested price:  [23.73013369]\n"
     ]
    }
   ],
   "source": [
    "example = pd.DataFrame([[600, 2025, 8]], columns=['pageCount', 'releasedYear', 'author_popularity_score'])\n",
    "\n",
    "predict_price = model.predict(example)\n",
    "print(\"Suggested price: \", predict_price)"
   ]
  },
  {
   "cell_type": "code",
   "execution_count": null,
   "id": "001a12f1-b3ef-4410-a812-d1694f1031cc",
   "metadata": {},
   "outputs": [],
   "source": []
  }
 ],
 "metadata": {
  "kernelspec": {
   "display_name": "Python [conda env:base] *",
   "language": "python",
   "name": "conda-base-py"
  },
  "language_info": {
   "codemirror_mode": {
    "name": "ipython",
    "version": 3
   },
   "file_extension": ".py",
   "mimetype": "text/x-python",
   "name": "python",
   "nbconvert_exporter": "python",
   "pygments_lexer": "ipython3",
   "version": "3.13.5"
  }
 },
 "nbformat": 4,
 "nbformat_minor": 5
}
