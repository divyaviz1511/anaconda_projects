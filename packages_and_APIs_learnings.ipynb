{
 "cells": [
  {
   "cell_type": "code",
   "execution_count": 5,
   "id": "a3279d83-7142-4605-b2c3-e21f0fd64bad",
   "metadata": {},
   "outputs": [
    {
     "name": "stdout",
     "output_type": "stream",
     "text": [
      "UnRounded PI value: 3.141592653589793\n",
      "Rounded PI value: 3\n",
      "Rounded PI value to two decimal places: 3.14\n"
     ]
    }
   ],
   "source": [
    "from math import pi, floor\n",
    "\n",
    "number = floor(pi)\n",
    "print(f\"UnRounded PI value: {pi}\")\n",
    "print(f\"Rounded PI value: {number}\")\n",
    "print(f\"Rounded PI value to two decimal places: {round(pi,2)}\")"
   ]
  },
  {
   "cell_type": "code",
   "execution_count": 8,
   "id": "06148b13-ba2f-4fdf-b2e0-c050164a96ad",
   "metadata": {},
   "outputs": [
    {
     "name": "stdout",
     "output_type": "stream",
     "text": [
      "['Red', 'Blue']\n"
     ]
    }
   ],
   "source": [
    "from random import sample\n",
    "\n",
    "colors = [\"White\", \"Blue\", \"Red\", \"Green\", \"Yellow\"]\n",
    "pick_colors = sample(colors,2)\n",
    "print(pick_colors)"
   ]
  },
  {
   "cell_type": "code",
   "execution_count": 16,
   "id": "b6baa7a6-53ad-4e63-afdb-3a969e00e3fb",
   "metadata": {},
   "outputs": [
    {
     "name": "stdout",
     "output_type": "stream",
     "text": [
      "              Model  Price  Year\n",
      "0           Bronco   50000  2017\n",
      "1   Honda Brio V MT   3510  2014\n",
      "2        Accura MDX  75000  2024\n",
      "3             Mazda  45000  2020\n",
      "4            Hummer  48000  2021\n",
      "5            Rivian  65000  2017\n",
      "6        MiniCooper  30000  2015\n",
      "7       Honda Civic   8650  2016\n",
      "8             Tesla  40000  2019\n",
      "9               BMW  66000  2014\n",
      "10             Audi  52000  2018\n",
      "\n",
      "Filtering data... Showing car model made post year 2020 \n",
      "        Model  Price  Year\n",
      "2  Accura MDX  75000  2024\n",
      "4      Hummer  48000  2021\n",
      "\n",
      "Filtering data... Showing car model below 50K \n",
      "             Model  Price  Year\n",
      "0          Bronco   50000  2017\n",
      "1  Honda Brio V MT   3510  2014\n",
      "3            Mazda  45000  2020\n",
      "4           Hummer  48000  2021\n",
      "6       MiniCooper  30000  2015\n",
      "7      Honda Civic   8650  2016\n",
      "8            Tesla  40000  2019\n"
     ]
    }
   ],
   "source": [
    "#3rd party packages\n",
    "import pandas as pd\n",
    "data = pd.read_csv(\"data/car_data.csv\")\n",
    "print(data)\n",
    "\n",
    "#Filtering data\n",
    "print()\n",
    "print(\"Filtering data... Showing car model made post year 2020 \")\n",
    "print(data[data[\"Year\"] > 2020])\n",
    "\n",
    "print()\n",
    "print(\"Filtering data... Showing car model below 50K \")\n",
    "print(data[data[\"Price\"] <= 50000])\n",
    "\n"
   ]
  },
  {
   "cell_type": "code",
   "execution_count": 19,
   "id": "b3069c99-a3dd-4e04-8dbf-3220eea5dec6",
   "metadata": {},
   "outputs": [
    {
     "data": {
      "image/png": "[encoded data removed]",
      "text/plain": [
       "<Figure size 640x480 with 1 Axes>"
      ]
     },
     "metadata": {},
     "output_type": "display_data"
    }
   ],
   "source": [
    "import matplotlib.pyplot as plt\n",
    "plt.scatter(data[\"Year\"], data[\"Price\"], color = \"red\")\n",
    "plt.title(\"Price of the car against the Year\")\n",
    "plt.xlabel(\"year\")\n",
    "plt.ylabel(\"price\")\n",
    "plt.grid(True)\n",
    "plt.show()"
   ]
  },
  {
   "cell_type": "code",
   "execution_count": 25,
   "id": "34e93db6-d3ed-45aa-89d0-fa7af1bb6780",
   "metadata": {},
   "outputs": [
    {
     "name": "stdout",
     "output_type": "stream",
     "text": [
      "{'cod': '200', 'message': 0, 'cnt': 1, 'list': [{'dt': 1758067200, 'main': {'temp': 31.05, 'feels_like': 31.28, 'temp_min': 30.16, 'temp_max': 31.05, 'pressure': 1012, 'sea_level': 1012, 'grnd_level': 990, 'humidity': 42, 'temp_kf': 0.89}, 'weather': [{'id': 800, 'main': 'Clear', 'description': 'clear sky', 'icon': '01d'}], 'clouds': {'all': 0}, 'wind': {'speed': 4.55, 'deg': 333, 'gust': 3.96}, 'visibility': 10000, 'pop': 0, 'sys': {'pod': 'd'}, 'dt_txt': '2025-09-17 00:00:00'}], 'city': {'id': 5373327, 'name': 'Milpitas', 'coord': {'lat': 37.4001, 'lon': -121.9267}, 'country': 'US', 'population': 66790, 'timezone': -25200, 'sunrise': 1758030652, 'sunset': 1758075252}}\n"
     ]
    }
   ],
   "source": [
    "#Using API of another site in our code. Using its response for further manipulation\n",
    "import os\n",
    "import requests\n",
    "from dotenv import load_dotenv\n",
    "\n",
    "load_dotenv('.env', override=True)\n",
    "api_key = os.getenv('WEATHER_API_KEY')\n",
    "lat = 37.40009000346891\n",
    "lon =  -121.92671656817993\n",
    "\n",
    "url = f\"https://api.openweathermap.org/data/2.5/forecast?units=metric&cnt=1&lat={lat}&lon={lon}&appid={api_key}\"\n",
    "\n",
    "# Use the get function from the requests library to store the response from the API\n",
    "response = requests.get(url)\n",
    "\n",
    "print(response.json())"
   ]
  },
  {
   "cell_type": "code",
   "execution_count": null,
   "id": "bfc80972-443d-40da-8333-055743cb77de",
   "metadata": {},
   "outputs": [],
   "source": []
  }
 ],
 "metadata": {
  "kernelspec": {
   "display_name": "Python [conda env:base] *",
   "language": "python",
   "name": "conda-base-py"
  },
  "language_info": {
   "codemirror_mode": {
    "name": "ipython",
    "version": 3
   },
   "file_extension": ".py",
   "mimetype": "text/x-python",
   "name": "python",
   "nbconvert_exporter": "python",
   "pygments_lexer": "ipython3",
   "version": "3.13.5"
  }
 },
 "nbformat": 4,
 "nbformat_minor": 5
}
